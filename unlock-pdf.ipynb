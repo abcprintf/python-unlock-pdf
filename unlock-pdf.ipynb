{
 "cells": [
  {
   "cell_type": "code",
   "execution_count": 1,
   "id": "292ec9e7-f0c1-4c22-89d0-a1f294df1e8a",
   "metadata": {},
   "outputs": [],
   "source": [
    "import pikepdf"
   ]
  },
  {
   "cell_type": "code",
   "execution_count": 2,
   "id": "721f4efa-6e22-462a-8b9e-ddfa8ee55883",
   "metadata": {},
   "outputs": [],
   "source": [
    "def unlock_pdf(input_pdf, output_pdf, password):\n",
    "    try:\n",
    "        pdf = pikepdf.open(input_pdf, password=password)\n",
    "        pdf.save(output_pdf)\n",
    "        print(f\"✅ PDF ปลดล็อกสำเร็จ! บันทึกที่: {output_pdf}\")\n",
    "    except pikepdf._qpdf.PasswordError:\n",
    "        print(\"❌ รหัสผ่านไม่ถูกต้อง\")"
   ]
  },
  {
   "cell_type": "code",
   "execution_count": null,
   "id": "79a889a5-ec8f-4d3f-a4f4-3f03708cc866",
   "metadata": {},
   "outputs": [
    {
     "name": "stdout",
     "output_type": "stream",
     "text": [
      "✅ PDF ปลดล็อกสำเร็จ! บันทึกที่: ./outputs/K-BANK-HOME-unlocked.pdf\n"
     ]
    }
   ],
   "source": [
    "unlock_pdf(\"./files/<file>.pdf\", \"./outputs/<file>-unlocked.pdf\", \"<password>\")"
   ]
  }
 ],
 "metadata": {
  "kernelspec": {
   "display_name": "Python 3 (ipykernel)",
   "language": "python",
   "name": "python3"
  },
  "language_info": {
   "codemirror_mode": {
    "name": "ipython",
    "version": 3
   },
   "file_extension": ".py",
   "mimetype": "text/x-python",
   "name": "python",
   "nbconvert_exporter": "python",
   "pygments_lexer": "ipython3",
   "version": "3.13.0"
  }
 },
 "nbformat": 4,
 "nbformat_minor": 5
}
